{
 "cells": [
  {
   "cell_type": "code",
   "execution_count": 6,
   "metadata": {},
   "outputs": [
    {
     "name": "stdout",
     "output_type": "stream",
     "text": [
      "Model Accuracy: 1.0\n",
      "Classification Report:\n",
      "               precision    recall  f1-score   support\n",
      "\n",
      "           0       1.00      1.00      1.00        19\n",
      "           1       1.00      1.00      1.00        22\n",
      "           2       1.00      1.00      1.00        19\n",
      "           3       1.00      1.00      1.00        19\n",
      "           4       1.00      1.00      1.00        19\n",
      "           5       1.00      1.00      1.00        19\n",
      "           6       1.00      1.00      1.00        18\n",
      "           7       1.00      1.00      1.00        25\n",
      "           8       1.00      1.00      1.00        27\n",
      "           9       1.00      1.00      1.00        13\n",
      "\n",
      "    accuracy                           1.00       200\n",
      "   macro avg       1.00      1.00      1.00       200\n",
      "weighted avg       1.00      1.00      1.00       200\n",
      "\n"
     ]
    }
   ],
   "source": [
    "import pandas as pd\n",
    "from sklearn.model_selection import train_test_split\n",
    "from sklearn.feature_extraction.text import TfidfVectorizer\n",
    "from sklearn.ensemble import RandomForestClassifier\n",
    "from sklearn.metrics import classification_report, accuracy_score\n",
    "\n",
    "# Load dataset\n",
    "file_path = \"medical_history_data.csv\"  # Path to the dataset\n",
    "df = pd.read_csv(file_path)\n",
    "\n",
    "# Step 1: Preprocess the Text Data\n",
    "X = df['description'].str.lower()  # Convert to lowercase for consistency\n",
    "y = df['diagnosis']\n",
    "\n",
    "# Step 2: Label Encode the Diagnoses\n",
    "y = y.factorize()[0]  # Factorize diagnoses to get numeric labels\n",
    "\n",
    "# Step 3: Vectorize Symptoms using TF-IDF\n",
    "tfidf = TfidfVectorizer(max_features=500)\n",
    "X_tfidf = tfidf.fit_transform(X)\n",
    "\n",
    "# Step 4: Split Data\n",
    "X_train, X_test, y_train, y_test = train_test_split(X_tfidf, y, test_size=0.2, random_state=42)\n",
    "\n",
    "# Step 5: Train the Model\n",
    "model = RandomForestClassifier(random_state=42)\n",
    "model.fit(X_train, y_train)\n",
    "\n",
    "# Step 6: Make Predictions and Evaluate\n",
    "y_pred = model.predict(X_test)\n",
    "accuracy = accuracy_score(y_test, y_pred)\n",
    "print(\"Model Accuracy:\", accuracy)\n",
    "print(\"Classification Report:\\n\", classification_report(y_test, y_pred))\n"
   ]
  },
  {
   "cell_type": "code",
   "execution_count": 7,
   "metadata": {},
   "outputs": [
    {
     "name": "stdout",
     "output_type": "stream",
     "text": [
      "Symptom: Patient experiences persistent headache and dizziness.\n",
      "Predicted Diagnosis: Hypertension\n",
      "\n",
      "Symptom: High fever, chills, muscle aches, and fatigue for a few days.\n",
      "Predicted Diagnosis: Influenza\n",
      "\n",
      "Symptom: Burning sensation while urinating, accompanied by lower abdominal discomfort.\n",
      "Predicted Diagnosis: Urinary tract infection\n",
      "\n",
      "Symptom: Severe lower back pain, especially when bending or lifting.\n",
      "Predicted Diagnosis: Muscle strain\n",
      "\n",
      "Symptom: Sharp chest pain during physical activity, with occasional shortness of breath.\n",
      "Predicted Diagnosis: Possible angina\n",
      "\n"
     ]
    }
   ],
   "source": [
    "new_symptoms = [\n",
    "    \"Patient experiences persistent headache and dizziness.\",\n",
    "    \"High fever, chills, muscle aches, and fatigue for a few days.\",\n",
    "    \"Burning sensation while urinating, accompanied by lower abdominal discomfort.\",\n",
    "    \"Severe lower back pain, especially when bending or lifting.\",\n",
    "    \"Sharp chest pain during physical activity, with occasional shortness of breath.\"\n",
    "]\n",
    "\n",
    "# Transform the new symptoms with the trained TF-IDF vectorizer\n",
    "new_symptoms_tfidf = tfidf.transform(new_symptoms)\n",
    "\n",
    "# Make predictions\n",
    "new_predictions = model.predict(new_symptoms_tfidf)\n",
    "\n",
    "# Map numeric labels back to diagnosis names for clarity\n",
    "diagnosis_mapping = dict(enumerate(df['diagnosis'].factorize()[1]))\n",
    "predicted_diagnoses = [diagnosis_mapping[pred] for pred in new_predictions]\n",
    "\n",
    "# Output predictions\n",
    "for symptom, diagnosis in zip(new_symptoms, predicted_diagnoses):\n",
    "    print(f\"Symptom: {symptom}\\nPredicted Diagnosis: {diagnosis}\\n\")"
   ]
  },
  {
   "cell_type": "code",
   "execution_count": 8,
   "metadata": {},
   "outputs": [
    {
     "name": "stdout",
     "output_type": "stream",
     "text": [
      "Symptom: High fever, chills, muscle aches, and fatigue for a few days.\n",
      "Predicted Diagnosis: Influenza\n"
     ]
    }
   ],
   "source": [
    "# Single new symptom input\n",
    "single_symptom = \"High fever, chills, muscle aches, and fatigue for a few days.\"\n",
    "\n",
    "# Transform the symptom with the trained TF-IDF vectorizer\n",
    "single_symptom_tfidf = tfidf.transform([single_symptom])\n",
    "\n",
    "# Make the prediction\n",
    "single_prediction = model.predict(single_symptom_tfidf)\n",
    "\n",
    "# Map the numeric label back to the diagnosis name for clarity\n",
    "diagnosis_mapping = dict(enumerate(df['diagnosis'].factorize()[1]))\n",
    "predicted_diagnosis = diagnosis_mapping[single_prediction[0]]\n",
    "\n",
    "# Output the prediction\n",
    "print(f\"Symptom: {single_symptom}\")\n",
    "print(f\"Predicted Diagnosis: {predicted_diagnosis}\")\n"
   ]
  }
 ],
 "metadata": {
  "kernelspec": {
   "display_name": "Python 3",
   "language": "python",
   "name": "python3"
  },
  "language_info": {
   "codemirror_mode": {
    "name": "ipython",
    "version": 3
   },
   "file_extension": ".py",
   "mimetype": "text/x-python",
   "name": "python",
   "nbconvert_exporter": "python",
   "pygments_lexer": "ipython3",
   "version": "3.12.2"
  }
 },
 "nbformat": 4,
 "nbformat_minor": 2
}
